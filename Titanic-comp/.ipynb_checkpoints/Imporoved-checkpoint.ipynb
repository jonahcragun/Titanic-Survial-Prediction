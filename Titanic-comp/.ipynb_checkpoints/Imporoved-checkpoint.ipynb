{
 "cells": [
  {
   "cell_type": "markdown",
   "id": "00feb807-bb78-44ce-a2f6-0201dba082d3",
   "metadata": {},
   "source": [
    "# Predict Passenger Survival (Titanic)\n",
    "Analyze data with passengers relevant information and survival status to predict who will survive in test data."
   ]
  },
  {
   "cell_type": "code",
   "execution_count": 57,
   "id": "5d9c83b8-e10c-4c6b-8936-ba99112a9e7b",
   "metadata": {},
   "outputs": [],
   "source": [
    "# require imports\n",
    "import pandas as pd\n",
    "import seaborn as sns\n",
    "import numpy as np\n",
    "import matplotlib.pyplot as plt\n",
    "from sklearn.impute import SimpleImputer\n",
    "from sklearn.preprocessing import OneHotEncoder\n",
    "from sklearn.compose import ColumnTransformer\n",
    "from sklearn.pipeline import Pipeline\n",
    "from sklearn.ensemble import RandomForestClassifier\n",
    "from sklearn.model_selection import train_test_split\n",
    "from sklearn.metrics import accuracy_score\n",
    "from xgboost import XGBClassifier"
   ]
  },
  {
   "cell_type": "markdown",
   "id": "16d9964a-8364-4d12-88c2-650c1382207a",
   "metadata": {},
   "source": [
    "## EDA"
   ]
  },
  {
   "cell_type": "code",
   "execution_count": 5,
   "id": "93bccdf9-bcca-47ec-acff-a835d5ef6310",
   "metadata": {},
   "outputs": [
    {
     "data": {
      "text/html": [
       "<div>\n",
       "<style scoped>\n",
       "    .dataframe tbody tr th:only-of-type {\n",
       "        vertical-align: middle;\n",
       "    }\n",
       "\n",
       "    .dataframe tbody tr th {\n",
       "        vertical-align: top;\n",
       "    }\n",
       "\n",
       "    .dataframe thead th {\n",
       "        text-align: right;\n",
       "    }\n",
       "</style>\n",
       "<table border=\"1\" class=\"dataframe\">\n",
       "  <thead>\n",
       "    <tr style=\"text-align: right;\">\n",
       "      <th></th>\n",
       "      <th>PassengerId</th>\n",
       "      <th>Survived</th>\n",
       "      <th>Pclass</th>\n",
       "      <th>Name</th>\n",
       "      <th>Sex</th>\n",
       "      <th>Age</th>\n",
       "      <th>SibSp</th>\n",
       "      <th>Parch</th>\n",
       "      <th>Ticket</th>\n",
       "      <th>Fare</th>\n",
       "      <th>Cabin</th>\n",
       "      <th>Embarked</th>\n",
       "    </tr>\n",
       "  </thead>\n",
       "  <tbody>\n",
       "    <tr>\n",
       "      <th>0</th>\n",
       "      <td>1</td>\n",
       "      <td>0</td>\n",
       "      <td>3</td>\n",
       "      <td>Braund, Mr. Owen Harris</td>\n",
       "      <td>male</td>\n",
       "      <td>22.0</td>\n",
       "      <td>1</td>\n",
       "      <td>0</td>\n",
       "      <td>A/5 21171</td>\n",
       "      <td>7.2500</td>\n",
       "      <td>NaN</td>\n",
       "      <td>S</td>\n",
       "    </tr>\n",
       "    <tr>\n",
       "      <th>1</th>\n",
       "      <td>2</td>\n",
       "      <td>1</td>\n",
       "      <td>1</td>\n",
       "      <td>Cumings, Mrs. John Bradley (Florence Briggs Th...</td>\n",
       "      <td>female</td>\n",
       "      <td>38.0</td>\n",
       "      <td>1</td>\n",
       "      <td>0</td>\n",
       "      <td>PC 17599</td>\n",
       "      <td>71.2833</td>\n",
       "      <td>C85</td>\n",
       "      <td>C</td>\n",
       "    </tr>\n",
       "    <tr>\n",
       "      <th>2</th>\n",
       "      <td>3</td>\n",
       "      <td>1</td>\n",
       "      <td>3</td>\n",
       "      <td>Heikkinen, Miss. Laina</td>\n",
       "      <td>female</td>\n",
       "      <td>26.0</td>\n",
       "      <td>0</td>\n",
       "      <td>0</td>\n",
       "      <td>STON/O2. 3101282</td>\n",
       "      <td>7.9250</td>\n",
       "      <td>NaN</td>\n",
       "      <td>S</td>\n",
       "    </tr>\n",
       "    <tr>\n",
       "      <th>3</th>\n",
       "      <td>4</td>\n",
       "      <td>1</td>\n",
       "      <td>1</td>\n",
       "      <td>Futrelle, Mrs. Jacques Heath (Lily May Peel)</td>\n",
       "      <td>female</td>\n",
       "      <td>35.0</td>\n",
       "      <td>1</td>\n",
       "      <td>0</td>\n",
       "      <td>113803</td>\n",
       "      <td>53.1000</td>\n",
       "      <td>C123</td>\n",
       "      <td>S</td>\n",
       "    </tr>\n",
       "    <tr>\n",
       "      <th>4</th>\n",
       "      <td>5</td>\n",
       "      <td>0</td>\n",
       "      <td>3</td>\n",
       "      <td>Allen, Mr. William Henry</td>\n",
       "      <td>male</td>\n",
       "      <td>35.0</td>\n",
       "      <td>0</td>\n",
       "      <td>0</td>\n",
       "      <td>373450</td>\n",
       "      <td>8.0500</td>\n",
       "      <td>NaN</td>\n",
       "      <td>S</td>\n",
       "    </tr>\n",
       "  </tbody>\n",
       "</table>\n",
       "</div>"
      ],
      "text/plain": [
       "   PassengerId  Survived  Pclass  \\\n",
       "0            1         0       3   \n",
       "1            2         1       1   \n",
       "2            3         1       3   \n",
       "3            4         1       1   \n",
       "4            5         0       3   \n",
       "\n",
       "                                                Name     Sex   Age  SibSp  \\\n",
       "0                            Braund, Mr. Owen Harris    male  22.0      1   \n",
       "1  Cumings, Mrs. John Bradley (Florence Briggs Th...  female  38.0      1   \n",
       "2                             Heikkinen, Miss. Laina  female  26.0      0   \n",
       "3       Futrelle, Mrs. Jacques Heath (Lily May Peel)  female  35.0      1   \n",
       "4                           Allen, Mr. William Henry    male  35.0      0   \n",
       "\n",
       "   Parch            Ticket     Fare Cabin Embarked  \n",
       "0      0         A/5 21171   7.2500   NaN        S  \n",
       "1      0          PC 17599  71.2833   C85        C  \n",
       "2      0  STON/O2. 3101282   7.9250   NaN        S  \n",
       "3      0            113803  53.1000  C123        S  \n",
       "4      0            373450   8.0500   NaN        S  "
      ]
     },
     "execution_count": 5,
     "metadata": {},
     "output_type": "execute_result"
    }
   ],
   "source": [
    "# read in training and test data\n",
    "train = pd.read_csv('train.csv')\n",
    "test = pd.read_csv('test.csv')\n",
    "\n",
    "# view top rows\n",
    "train.head()"
   ]
  },
  {
   "cell_type": "markdown",
   "id": "7cd7bcf5-40e7-40f6-8a75-33a0f635e64c",
   "metadata": {},
   "source": [
    "At first glance, interesting values seem to be: sex, age, Pclass, Fare, Cabin, and Embarked. Further analysis will determine how useful these are"
   ]
  },
  {
   "cell_type": "code",
   "execution_count": 34,
   "id": "411dc3e8-e632-4c9d-b5cb-cfe61d1a324a",
   "metadata": {},
   "outputs": [
    {
     "name": "stdout",
     "output_type": "stream",
     "text": [
      "row count:  (891, 12)\n",
      "PassengerId      0\n",
      "Survived         0\n",
      "Pclass           0\n",
      "Name             0\n",
      "Sex              0\n",
      "Age            177\n",
      "SibSp            0\n",
      "Parch            0\n",
      "Ticket           0\n",
      "Fare             0\n",
      "Cabin          687\n",
      "Embarked         2\n",
      "dtype: int64\n",
      "Missing rows in age:  19.865319865319865 %\n"
     ]
    }
   ],
   "source": [
    "# check for missing values\n",
    "print('row count: ', train.shape)\n",
    "print(train.isna().sum())\n",
    "print('Missing rows in age: ', train.Age.isna().sum() / len(train) * 100, '%')"
   ]
  },
  {
   "cell_type": "markdown",
   "id": "35862a40-3e4f-49ef-9ece-e702e660329d",
   "metadata": {},
   "source": [
    "Most columns are not missing data, but cabin is missing over half, so it may not have very accurate results if used in our model.\n",
    "\n",
    "Age is the only other feature missing data and it is about 20% so it will likely still be useful. Since it is such a large amount and we are working with a relatively small data set, we will need to impute the missing rows."
   ]
  },
  {
   "cell_type": "code",
   "execution_count": 35,
   "id": "4ce9287b-1952-4e4c-896d-8acf7f79bef7",
   "metadata": {},
   "outputs": [
    {
     "data": {
      "text/plain": [
       "PassengerId      int64\n",
       "Survived         int64\n",
       "Pclass           int64\n",
       "Name            object\n",
       "Sex             object\n",
       "Age            float64\n",
       "SibSp            int64\n",
       "Parch            int64\n",
       "Ticket          object\n",
       "Fare           float64\n",
       "Cabin           object\n",
       "Embarked        object\n",
       "dtype: object"
      ]
     },
     "execution_count": 35,
     "metadata": {},
     "output_type": "execute_result"
    }
   ],
   "source": [
    "# check data types\n",
    "train.dtypes"
   ]
  },
  {
   "cell_type": "markdown",
   "id": "78adaa4b-dec6-4b37-aac5-3b16e02f3dd0",
   "metadata": {},
   "source": [
    "The data types for each column appear to be appropriate, although I would expect age to be an int rather than a float. We will explore this further later."
   ]
  },
  {
   "cell_type": "code",
   "execution_count": 37,
   "id": "5a002b02-7da0-4f61-9f2a-ca1bd1454102",
   "metadata": {},
   "outputs": [
    {
     "data": {
      "text/plain": [
       "PassengerId    891\n",
       "Survived         2\n",
       "Pclass           3\n",
       "Name           891\n",
       "Sex              2\n",
       "Age             88\n",
       "SibSp            7\n",
       "Parch            7\n",
       "Ticket         681\n",
       "Fare           248\n",
       "Cabin          147\n",
       "Embarked         3\n",
       "dtype: int64"
      ]
     },
     "execution_count": 37,
     "metadata": {},
     "output_type": "execute_result"
    }
   ],
   "source": [
    "# check count of unique values in each column\n",
    "train.nunique()"
   ]
  },
  {
   "cell_type": "code",
   "execution_count": 38,
   "id": "4acc5084-a17a-4f80-84b0-f0ba4cdbd447",
   "metadata": {},
   "outputs": [
    {
     "data": {
      "text/html": [
       "<div>\n",
       "<style scoped>\n",
       "    .dataframe tbody tr th:only-of-type {\n",
       "        vertical-align: middle;\n",
       "    }\n",
       "\n",
       "    .dataframe tbody tr th {\n",
       "        vertical-align: top;\n",
       "    }\n",
       "\n",
       "    .dataframe thead th {\n",
       "        text-align: right;\n",
       "    }\n",
       "</style>\n",
       "<table border=\"1\" class=\"dataframe\">\n",
       "  <thead>\n",
       "    <tr style=\"text-align: right;\">\n",
       "      <th></th>\n",
       "      <th>PassengerId</th>\n",
       "      <th>Survived</th>\n",
       "      <th>Pclass</th>\n",
       "      <th>Age</th>\n",
       "      <th>SibSp</th>\n",
       "      <th>Parch</th>\n",
       "      <th>Fare</th>\n",
       "    </tr>\n",
       "  </thead>\n",
       "  <tbody>\n",
       "    <tr>\n",
       "      <th>count</th>\n",
       "      <td>891.000000</td>\n",
       "      <td>891.000000</td>\n",
       "      <td>891.000000</td>\n",
       "      <td>714.000000</td>\n",
       "      <td>891.000000</td>\n",
       "      <td>891.000000</td>\n",
       "      <td>891.000000</td>\n",
       "    </tr>\n",
       "    <tr>\n",
       "      <th>mean</th>\n",
       "      <td>446.000000</td>\n",
       "      <td>0.383838</td>\n",
       "      <td>2.308642</td>\n",
       "      <td>29.699118</td>\n",
       "      <td>0.523008</td>\n",
       "      <td>0.381594</td>\n",
       "      <td>32.204208</td>\n",
       "    </tr>\n",
       "    <tr>\n",
       "      <th>std</th>\n",
       "      <td>257.353842</td>\n",
       "      <td>0.486592</td>\n",
       "      <td>0.836071</td>\n",
       "      <td>14.526497</td>\n",
       "      <td>1.102743</td>\n",
       "      <td>0.806057</td>\n",
       "      <td>49.693429</td>\n",
       "    </tr>\n",
       "    <tr>\n",
       "      <th>min</th>\n",
       "      <td>1.000000</td>\n",
       "      <td>0.000000</td>\n",
       "      <td>1.000000</td>\n",
       "      <td>0.420000</td>\n",
       "      <td>0.000000</td>\n",
       "      <td>0.000000</td>\n",
       "      <td>0.000000</td>\n",
       "    </tr>\n",
       "    <tr>\n",
       "      <th>25%</th>\n",
       "      <td>223.500000</td>\n",
       "      <td>0.000000</td>\n",
       "      <td>2.000000</td>\n",
       "      <td>20.125000</td>\n",
       "      <td>0.000000</td>\n",
       "      <td>0.000000</td>\n",
       "      <td>7.910400</td>\n",
       "    </tr>\n",
       "    <tr>\n",
       "      <th>50%</th>\n",
       "      <td>446.000000</td>\n",
       "      <td>0.000000</td>\n",
       "      <td>3.000000</td>\n",
       "      <td>28.000000</td>\n",
       "      <td>0.000000</td>\n",
       "      <td>0.000000</td>\n",
       "      <td>14.454200</td>\n",
       "    </tr>\n",
       "    <tr>\n",
       "      <th>75%</th>\n",
       "      <td>668.500000</td>\n",
       "      <td>1.000000</td>\n",
       "      <td>3.000000</td>\n",
       "      <td>38.000000</td>\n",
       "      <td>1.000000</td>\n",
       "      <td>0.000000</td>\n",
       "      <td>31.000000</td>\n",
       "    </tr>\n",
       "    <tr>\n",
       "      <th>max</th>\n",
       "      <td>891.000000</td>\n",
       "      <td>1.000000</td>\n",
       "      <td>3.000000</td>\n",
       "      <td>80.000000</td>\n",
       "      <td>8.000000</td>\n",
       "      <td>6.000000</td>\n",
       "      <td>512.329200</td>\n",
       "    </tr>\n",
       "  </tbody>\n",
       "</table>\n",
       "</div>"
      ],
      "text/plain": [
       "       PassengerId    Survived      Pclass         Age       SibSp  \\\n",
       "count   891.000000  891.000000  891.000000  714.000000  891.000000   \n",
       "mean    446.000000    0.383838    2.308642   29.699118    0.523008   \n",
       "std     257.353842    0.486592    0.836071   14.526497    1.102743   \n",
       "min       1.000000    0.000000    1.000000    0.420000    0.000000   \n",
       "25%     223.500000    0.000000    2.000000   20.125000    0.000000   \n",
       "50%     446.000000    0.000000    3.000000   28.000000    0.000000   \n",
       "75%     668.500000    1.000000    3.000000   38.000000    1.000000   \n",
       "max     891.000000    1.000000    3.000000   80.000000    8.000000   \n",
       "\n",
       "            Parch        Fare  \n",
       "count  891.000000  891.000000  \n",
       "mean     0.381594   32.204208  \n",
       "std      0.806057   49.693429  \n",
       "min      0.000000    0.000000  \n",
       "25%      0.000000    7.910400  \n",
       "50%      0.000000   14.454200  \n",
       "75%      0.000000   31.000000  \n",
       "max      6.000000  512.329200  "
      ]
     },
     "execution_count": 38,
     "metadata": {},
     "output_type": "execute_result"
    }
   ],
   "source": [
    "# get general stats for each column\n",
    "train.describe()"
   ]
  },
  {
   "cell_type": "markdown",
   "id": "209492b6-73a2-4ea1-b7ef-5bff087e87f1",
   "metadata": {},
   "source": [
    "It appears that the age skews to the younger side with a mean of 29, and less than half of the passengers survive. There are a few noticible outliers with age, sibsp, and fare max values being significantly higher than the 75%."
   ]
  },
  {
   "cell_type": "markdown",
   "id": "60f00ada-f43a-4579-9b45-2178b3322bac",
   "metadata": {},
   "source": [
    "### Univariate Analysis"
   ]
  },
  {
   "cell_type": "code",
   "execution_count": 42,
   "id": "817084a3-d921-4c68-8148-045427395784",
   "metadata": {},
   "outputs": [
    {
     "data": {
      "text/plain": [
       "Index(['PassengerId', 'Survived', 'Pclass', 'Name', 'Sex', 'Age', 'SibSp',\n",
       "       'Parch', 'Ticket', 'Fare', 'Cabin', 'Embarked'],\n",
       "      dtype='object')"
      ]
     },
     "execution_count": 42,
     "metadata": {},
     "output_type": "execute_result"
    }
   ],
   "source": [
    "train.columns"
   ]
  },
  {
   "cell_type": "markdown",
   "id": "c78237d0-7d47-4f2f-9e57-9cefbba5eb67",
   "metadata": {},
   "source": [
    "Pclass:"
   ]
  },
  {
   "cell_type": "code",
   "execution_count": 46,
   "id": "493c2c83-39c3-4205-80bd-ed2596d5afa0",
   "metadata": {},
   "outputs": [
    {
     "data": {
      "text/plain": [
       "<Axes: xlabel='Pclass', ylabel='count'>"
      ]
     },
     "execution_count": 46,
     "metadata": {},
     "output_type": "execute_result"
    },
    {
     "data": {
      "image/png": "[encoded data removed]",
      "text/plain": [
       "<Figure size 640x480 with 1 Axes>"
      ]
     },
     "metadata": {},
     "output_type": "display_data"
    }
   ],
   "source": [
    "sns.countplot(x='Pclass', data=train)"
   ]
  },
  {
   "cell_type": "markdown",
   "id": "43b23045-a9ac-42d4-ab41-d2931a8b7cbc",
   "metadata": {},
   "source": [
    "It appears most people fall into class 3."
   ]
  },
  {
   "cell_type": "markdown",
   "id": "09dc0212-3fee-4da5-b320-0578340a8fd6",
   "metadata": {},
   "source": [
    "Sex:"
   ]
  },
  {
   "cell_type": "code",
   "execution_count": 47,
   "id": "d03d21a0-5678-4cbb-a54a-fca3549f3d2f",
   "metadata": {},
   "outputs": [
    {
     "data": {
      "text/plain": [
       "<Axes: xlabel='Sex', ylabel='count'>"
      ]
     },
     "execution_count": 47,
     "metadata": {},
     "output_type": "execute_result"
    },
    {
     "data": {
      "image/png": "[encoded data removed]",
      "text/plain": [
       "<Figure size 640x480 with 1 Axes>"
      ]
     },
     "metadata": {},
     "output_type": "display_data"
    }
   ],
   "source": [
    "sns.countplot(data=train, x='Sex')"
   ]
  },
  {
   "cell_type": "markdown",
   "id": "ca6b513b-b163-44a9-add8-a101d65b4e09",
   "metadata": {},
   "source": [
    "There are about twice as many males as females on board. This could be due to the nature of the trip, or the time period, but may have interesting effects on survial"
   ]
  },
  {
   "cell_type": "markdown",
   "id": "e4149fbd-ecdd-4041-8ea5-0477d98f3ea1",
   "metadata": {},
   "source": [
    "Age:"
   ]
  },
  {
   "cell_type": "code",
   "execution_count": 50,
   "id": "2d6f4809-2dc3-4ccb-8f9d-4932f82d5813",
   "metadata": {},
   "outputs": [
    {
     "data": {
      "image/png": "[encoded data removed]",
      "text/plain": [
       "<Figure size 640x480 with 1 Axes>"
      ]
     },
     "metadata": {},
     "output_type": "display_data"
    }
   ],
   "source": [
    "sns.histplot(data=train, x='Age')\n",
    "plt.title('Age Distribution')\n",
    "plt.show()"
   ]
  },
  {
   "cell_type": "markdown",
   "id": "8e44047b-1678-4754-b098-04032460a70b",
   "metadata": {},
   "source": [
    "Ages seem to be within a reasonable range, with the majoriy around 20-30. There are a surprizing amount of children under the age of 10. This could be a good indicator of who survives as so many children will likely be a priority."
   ]
  },
  {
   "cell_type": "code",
   "execution_count": 55,
   "id": "0e83ba5c-15f9-4aef-904e-b8bbcadf21d0",
   "metadata": {},
   "outputs": [
    {
     "data": {
      "text/plain": [
       "Age\n",
       "2.00    10\n",
       "4.00    10\n",
       "9.00     8\n",
       "1.00     7\n",
       "3.00     6\n",
       "8.00     4\n",
       "5.00     4\n",
       "7.00     3\n",
       "6.00     3\n",
       "0.83     2\n",
       "0.75     2\n",
       "0.92     1\n",
       "0.67     1\n",
       "0.42     1\n",
       "Name: count, dtype: int64"
      ]
     },
     "execution_count": 55,
     "metadata": {},
     "output_type": "execute_result"
    }
   ],
   "source": [
    "under_10 = train[train.Age < 10]\n",
    "under_10.Age.value_counts()"
   ]
  },
  {
   "cell_type": "markdown",
   "id": "8d710634-441f-4920-a6cc-c41976ab2aaf",
   "metadata": {},
   "source": [
    "There appear to be a few values that are < 1 year. This could be possible if children less than a year were aloud aboard, but it feels unlikely for the exact age to be recorded. We will either need to assume a typo and multiply the age values by 100, or drop the columns"
   ]
  },
  {
   "cell_type": "code",
   "execution_count": 59,
   "id": "e6ac0529-ac42-4bbb-b7f4-1285118cd1f5",
   "metadata": {},
   "outputs": [
    {
     "data": {
      "text/plain": [
       "Age\n",
       "28.50    2\n",
       "30.50    2\n",
       "32.50    2\n",
       "40.50    2\n",
       "45.50    2\n",
       "0.83     2\n",
       "0.75     2\n",
       "0.92     1\n",
       "0.42     1\n",
       "0.67     1\n",
       "24.50    1\n",
       "20.50    1\n",
       "23.50    1\n",
       "55.50    1\n",
       "36.50    1\n",
       "70.50    1\n",
       "14.50    1\n",
       "34.50    1\n",
       "Name: count, dtype: int64"
      ]
     },
     "execution_count": 59,
     "metadata": {},
     "output_type": "execute_result"
    }
   ],
   "source": [
    "train[train.Age - np.floor(train.Age) != 0].Age.value_counts()"
   ]
  },
  {
   "cell_type": "markdown",
   "id": "b62e7de3-716b-45e0-a2e3-61eb28c91dca",
   "metadata": {},
   "source": [
    "Since there are relatively few values that use the decimal place, we will assume this to be a typo and convert age to int"
   ]
  },
  {
   "cell_type": "markdown",
   "id": "2ffc65d7-6815-4a1f-a2bc-6fd35f8e5fc5",
   "metadata": {},
   "source": [
    "Fare:"
   ]
  },
  {
   "cell_type": "code",
   "execution_count": 61,
   "id": "d004a72a-5048-4711-9fa5-f76c141a6df0",
   "metadata": {},
   "outputs": [
    {
     "data": {
      "text/plain": [
       "[]"
      ]
     },
     "execution_count": 61,
     "metadata": {},
     "output_type": "execute_result"
    },
    {
     "data": {
      "image/png": "[encoded data removed]",
      "text/plain": [
       "<Figure size 640x480 with 1 Axes>"
      ]
     },
     "metadata": {},
     "output_type": "display_data"
    }
   ],
   "source": [
    "sns.histplot(data=train, x='Fare')\n",
    "plt.title('Fare Distribution')\n",
    "plt.plot()"
   ]
  },
  {
   "cell_type": "markdown",
   "id": "855c6518-d4f6-4e45-8061-668bd60d515d",
   "metadata": {},
   "source": [
    "There are some large ourliers here. It is unclear if these are due to typos, or if there are just a select few passengers that spent a lot for extra perks."
   ]
  },
  {
   "cell_type": "markdown",
   "id": "fbc0ceaa-c493-49e6-a877-e2f91d7bcd2d",
   "metadata": {},
   "source": [
    "### Bivariate Analysis"
   ]
  },
  {
   "cell_type": "markdown",
   "id": "3a0095a9-33de-4cfd-83f9-4d263be9832d",
   "metadata": {},
   "source": [
    "## ML Pipeline"
   ]
  },
  {
   "cell_type": "markdown",
   "id": "640a67fa-9adc-446f-9fbe-6825a904be17",
   "metadata": {},
   "source": [
    "### prepare data for pipeline"
   ]
  },
  {
   "cell_type": "code",
   "execution_count": 39,
   "id": "643f2b52-843e-484c-8fc6-16af7b0fb3d2",
   "metadata": {},
   "outputs": [],
   "source": [
    "# extract survival status\n",
    "y = train.Survived\n",
    "\n",
    "# extract explanatory variables\n",
    "X = train[['Pclass', 'Sex', 'Age', 'Fare']]\n",
    "\n",
    "# identify numeric and categorical variables\n",
    "cat_cols = [c for c in X.columns if X[c].dtype == 'object']\n",
    "num_cols = [c for c in X.columns if X[c].dtype in ['int', 'float']]\n",
    "\n",
    "# clean numerical data\n",
    "num_transformer = SimpleImputer(strategy='median')\n",
    "\n",
    "# clean categorical data\n",
    "cat_transformer = Pipeline(steps=[\n",
    "    ('imputer', SimpleImputer(strategy='most_frequent')),\n",
    "    ('encoder', OneHotEncoder(handle_unknown='ignore'))\n",
    "])\n",
    "\n",
    "# combine for pipeline\n",
    "preprocessor = ColumnTransformer(transformers=[\n",
    "    ('num', num_transformer, num_cols),\n",
    "    ('cat', cat_transformer, cat_cols)\n",
    "])\n",
    "\n",
    "# split data\n",
    "X_train, X_valid, y_train, y_valid = train_test_split(X, y)"
   ]
  },
  {
   "cell_type": "markdown",
   "id": "b7fb78ed-aee7-44f4-a837-f4a3b6cedfeb",
   "metadata": {},
   "source": [
    "### Train model and get predictions"
   ]
  },
  {
   "cell_type": "code",
   "execution_count": 40,
   "id": "49d773d3-fb4e-4e99-98dc-2feae6ec81af",
   "metadata": {},
   "outputs": [
    {
     "name": "stdout",
     "output_type": "stream",
     "text": [
      "validation data prediction accuracy:  0.8475336322869955\n"
     ]
    }
   ],
   "source": [
    "# define model\n",
    "model = XGBClassifier(random_state=42, n_estimators=500, learning_rate=0.05)\n",
    "\n",
    "# create pipeline\n",
    "pl = Pipeline(steps=[\n",
    "    ('preprocessor', preprocessor),\n",
    "    ('model', model)\n",
    "])\n",
    "\n",
    "# preprocess training data and fit model\n",
    "pl.fit(X_train, y_train)\n",
    "\n",
    "# preprocess validation data and get predictions\n",
    "y_pred = pl.predict(X_valid)\n",
    "\n",
    "# determine accuracy\n",
    "accuracy = accuracy_score(y_valid, y_pred)\n",
    "print('validation data prediction accuracy: ', accuracy)"
   ]
  },
  {
   "cell_type": "code",
   "execution_count": 41,
   "id": "64b4e97c-d8a6-425b-9536-72d81655097f",
   "metadata": {},
   "outputs": [],
   "source": [
    "# used model on X_test data and write to csv\n",
    "X_test = test[['Pclass', 'Sex', 'Age', 'Fare', 'Cabin']]\n",
    "preds = pl.predict(X_test)\n",
    "results = pd.DataFrame({'PassengerId': test.PassengerId, 'Survived': preds})\n",
    "results.to_csv('results.csv', index=False)"
   ]
  }
 ],
 "metadata": {
  "kernelspec": {
   "display_name": "My Env",
   "language": "python",
   "name": "myenv"
  },
  "language_info": {
   "codemirror_mode": {
    "name": "ipython",
    "version": 3
   },
   "file_extension": ".py",
   "mimetype": "text/x-python",
   "name": "python",
   "nbconvert_exporter": "python",
   "pygments_lexer": "ipython3",
   "version": "3.10.0"
  }
 },
 "nbformat": 4,
 "nbformat_minor": 5
}
